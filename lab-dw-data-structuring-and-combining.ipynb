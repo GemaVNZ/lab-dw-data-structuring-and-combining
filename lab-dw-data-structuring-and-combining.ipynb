{
 "cells": [
  {
   "cell_type": "markdown",
   "id": "25d7736c-ba17-4aff-b6bb-66eba20fbf4e",
   "metadata": {
    "id": "25d7736c-ba17-4aff-b6bb-66eba20fbf4e"
   },
   "source": [
    "# Lab | Data Structuring and Combining Data"
   ]
  },
  {
   "cell_type": "markdown",
   "id": "a2cdfc70-44c8-478c-81e7-2bc43fdf4986",
   "metadata": {
    "id": "a2cdfc70-44c8-478c-81e7-2bc43fdf4986"
   },
   "source": [
    "## Challenge 1: Combining & Cleaning Data\n",
    "\n",
    "In this challenge, we will be working with the customer data from an insurance company, as we did in the two previous labs. The data can be found here:\n",
    "- https://raw.githubusercontent.com/data-bootcamp-v4/data/main/file1.csv\n",
    "\n",
    "But this time, we got new data, which can be found in the following 2 CSV files located at the links below.\n",
    "\n",
    "- https://raw.githubusercontent.com/data-bootcamp-v4/data/main/file2.csv\n",
    "- https://raw.githubusercontent.com/data-bootcamp-v4/data/main/file3.csv\n",
    "\n",
    "Note that you'll need to clean and format the new data.\n",
    "\n",
    "Observation:\n",
    "- One option is to first combine the three datasets and then apply the cleaning function to the new combined dataset\n",
    "- Another option would be to read the clean file you saved in the previous lab, and just clean the two new files and concatenate the three clean datasets"
   ]
  },
  {
   "cell_type": "code",
   "execution_count": 1,
   "id": "492d06e3-92c7-4105-ac72-536db98d3244",
   "metadata": {
    "id": "492d06e3-92c7-4105-ac72-536db98d3244"
   },
   "outputs": [],
   "source": [
    "# Your code goes here\n",
    "\n",
    "import pandas as pd\n"
   ]
  },
  {
   "cell_type": "code",
   "execution_count": 34,
   "id": "90c72ae3",
   "metadata": {},
   "outputs": [],
   "source": [
    "clean_data1_path = 'C:\\\\DAM\\\\Ironhack\\\\Laboratorios\\\\lab-dw-data-structuring-and-combining\\\\seguros_data_clean.csv'\n",
    "df1 = pd.read_csv(clean_data1_path)"
   ]
  },
  {
   "cell_type": "code",
   "execution_count": 3,
   "id": "37605083",
   "metadata": {},
   "outputs": [
    {
     "data": {
      "text/html": [
       "<div>\n",
       "<style scoped>\n",
       "    .dataframe tbody tr th:only-of-type {\n",
       "        vertical-align: middle;\n",
       "    }\n",
       "\n",
       "    .dataframe tbody tr th {\n",
       "        vertical-align: top;\n",
       "    }\n",
       "\n",
       "    .dataframe thead th {\n",
       "        text-align: right;\n",
       "    }\n",
       "</style>\n",
       "<table border=\"1\" class=\"dataframe\">\n",
       "  <thead>\n",
       "    <tr style=\"text-align: right;\">\n",
       "      <th></th>\n",
       "      <th>Customer_ID</th>\n",
       "      <th>State</th>\n",
       "      <th>Gender</th>\n",
       "      <th>Education</th>\n",
       "      <th>Customer_Lifetime_Value</th>\n",
       "      <th>Income</th>\n",
       "      <th>Monthly_Premium_Auto</th>\n",
       "      <th>Number_of_Open_Complaints</th>\n",
       "      <th>Policy_Type</th>\n",
       "      <th>Vehicle_Class</th>\n",
       "      <th>Total_Claim_Amount</th>\n",
       "    </tr>\n",
       "  </thead>\n",
       "  <tbody>\n",
       "    <tr>\n",
       "      <th>0</th>\n",
       "      <td>RB50392</td>\n",
       "      <td>Washington</td>\n",
       "      <td>F</td>\n",
       "      <td>Master</td>\n",
       "      <td>588174</td>\n",
       "      <td>0</td>\n",
       "      <td>1000</td>\n",
       "      <td>0.0</td>\n",
       "      <td>Personal Auto</td>\n",
       "      <td>Four-Door Car</td>\n",
       "      <td>2</td>\n",
       "    </tr>\n",
       "    <tr>\n",
       "      <th>1</th>\n",
       "      <td>QZ44356</td>\n",
       "      <td>Arizona</td>\n",
       "      <td>F</td>\n",
       "      <td>Bachelor</td>\n",
       "      <td>697953</td>\n",
       "      <td>0</td>\n",
       "      <td>94</td>\n",
       "      <td>0.0</td>\n",
       "      <td>Personal Auto</td>\n",
       "      <td>Four-Door Car</td>\n",
       "      <td>1131</td>\n",
       "    </tr>\n",
       "    <tr>\n",
       "      <th>2</th>\n",
       "      <td>AI49188</td>\n",
       "      <td>Nevada</td>\n",
       "      <td>F</td>\n",
       "      <td>Bachelor</td>\n",
       "      <td>1288743</td>\n",
       "      <td>48767</td>\n",
       "      <td>108</td>\n",
       "      <td>0.0</td>\n",
       "      <td>Personal Auto</td>\n",
       "      <td>Two-Door Car</td>\n",
       "      <td>566</td>\n",
       "    </tr>\n",
       "    <tr>\n",
       "      <th>3</th>\n",
       "      <td>WW63253</td>\n",
       "      <td>California</td>\n",
       "      <td>M</td>\n",
       "      <td>Bachelor</td>\n",
       "      <td>764586</td>\n",
       "      <td>0</td>\n",
       "      <td>106</td>\n",
       "      <td>0.0</td>\n",
       "      <td>Corporate Auto</td>\n",
       "      <td>SUV</td>\n",
       "      <td>529</td>\n",
       "    </tr>\n",
       "    <tr>\n",
       "      <th>4</th>\n",
       "      <td>GA49547</td>\n",
       "      <td>Washington</td>\n",
       "      <td>M</td>\n",
       "      <td>High School or Below</td>\n",
       "      <td>536307</td>\n",
       "      <td>36357</td>\n",
       "      <td>68</td>\n",
       "      <td>0.0</td>\n",
       "      <td>Personal Auto</td>\n",
       "      <td>Four-Door Car</td>\n",
       "      <td>17</td>\n",
       "    </tr>\n",
       "  </tbody>\n",
       "</table>\n",
       "</div>"
      ],
      "text/plain": [
       "  Customer_ID       State Gender             Education  \\\n",
       "0     RB50392  Washington      F                Master   \n",
       "1     QZ44356     Arizona      F              Bachelor   \n",
       "2     AI49188      Nevada      F              Bachelor   \n",
       "3     WW63253  California      M              Bachelor   \n",
       "4     GA49547  Washington      M  High School or Below   \n",
       "\n",
       "   Customer_Lifetime_Value  Income  Monthly_Premium_Auto  \\\n",
       "0                   588174       0                  1000   \n",
       "1                   697953       0                    94   \n",
       "2                  1288743   48767                   108   \n",
       "3                   764586       0                   106   \n",
       "4                   536307   36357                    68   \n",
       "\n",
       "   Number_of_Open_Complaints     Policy_Type  Vehicle_Class  \\\n",
       "0                        0.0   Personal Auto  Four-Door Car   \n",
       "1                        0.0   Personal Auto  Four-Door Car   \n",
       "2                        0.0   Personal Auto   Two-Door Car   \n",
       "3                        0.0  Corporate Auto            SUV   \n",
       "4                        0.0   Personal Auto  Four-Door Car   \n",
       "\n",
       "   Total_Claim_Amount  \n",
       "0                   2  \n",
       "1                1131  \n",
       "2                 566  \n",
       "3                 529  \n",
       "4                  17  "
      ]
     },
     "execution_count": 3,
     "metadata": {},
     "output_type": "execute_result"
    }
   ],
   "source": [
    "df1.head()"
   ]
  },
  {
   "cell_type": "code",
   "execution_count": 35,
   "id": "bc3922b8",
   "metadata": {},
   "outputs": [
    {
     "data": {
      "text/plain": [
       "Index(['Customer_ID', 'State', 'Gender', 'Education',\n",
       "       'Customer_Lifetime_Value', 'Income', 'Monthly_Premium_Auto',\n",
       "       'Number_of_Open_Complaints', 'Policy_Type', 'Vehicle_Class',\n",
       "       'Total_Claim_Amount'],\n",
       "      dtype='object')"
      ]
     },
     "execution_count": 35,
     "metadata": {},
     "output_type": "execute_result"
    }
   ],
   "source": [
    "df1.columns"
   ]
  },
  {
   "cell_type": "code",
   "execution_count": 36,
   "id": "47eda9a7",
   "metadata": {},
   "outputs": [
    {
     "data": {
      "text/plain": [
       "array(['Four-Door Car', 'Two-Door Car', 'SUV', 'Luxury', nan],\n",
       "      dtype=object)"
      ]
     },
     "execution_count": 36,
     "metadata": {},
     "output_type": "execute_result"
    }
   ],
   "source": [
    "df1['Vehicle_Class'] = df1['Vehicle_Class'].replace({'Sports Car': 'Luxury', 'Luxury SUV': 'Luxury', 'Luxury Car': 'Luxury'})\n",
    "df1['Vehicle_Class'].unique()"
   ]
  },
  {
   "cell_type": "code",
   "execution_count": 37,
   "id": "a724a29c",
   "metadata": {},
   "outputs": [],
   "source": [
    "new_data1_path = 'https://raw.githubusercontent.com/data-bootcamp-v4/data/main/file2.csv'\n",
    "df2 = pd.read_csv(new_data1_path)\n",
    "new_data2_path = 'https://raw.githubusercontent.com/data-bootcamp-v4/data/main/file3.csv'\n",
    "df3 = pd.read_csv(new_data2_path)"
   ]
  },
  {
   "cell_type": "code",
   "execution_count": 38,
   "id": "6e901d04",
   "metadata": {},
   "outputs": [
    {
     "data": {
      "text/html": [
       "<div>\n",
       "<style scoped>\n",
       "    .dataframe tbody tr th:only-of-type {\n",
       "        vertical-align: middle;\n",
       "    }\n",
       "\n",
       "    .dataframe tbody tr th {\n",
       "        vertical-align: top;\n",
       "    }\n",
       "\n",
       "    .dataframe thead th {\n",
       "        text-align: right;\n",
       "    }\n",
       "</style>\n",
       "<table border=\"1\" class=\"dataframe\">\n",
       "  <thead>\n",
       "    <tr style=\"text-align: right;\">\n",
       "      <th></th>\n",
       "      <th>Customer</th>\n",
       "      <th>ST</th>\n",
       "      <th>GENDER</th>\n",
       "      <th>Education</th>\n",
       "      <th>Customer Lifetime Value</th>\n",
       "      <th>Income</th>\n",
       "      <th>Monthly Premium Auto</th>\n",
       "      <th>Number of Open Complaints</th>\n",
       "      <th>Total Claim Amount</th>\n",
       "      <th>Policy Type</th>\n",
       "      <th>Vehicle Class</th>\n",
       "    </tr>\n",
       "  </thead>\n",
       "  <tbody>\n",
       "    <tr>\n",
       "      <th>0</th>\n",
       "      <td>GS98873</td>\n",
       "      <td>Arizona</td>\n",
       "      <td>F</td>\n",
       "      <td>Bachelor</td>\n",
       "      <td>323912.47%</td>\n",
       "      <td>16061</td>\n",
       "      <td>88</td>\n",
       "      <td>1/0/00</td>\n",
       "      <td>633.6</td>\n",
       "      <td>Personal Auto</td>\n",
       "      <td>Four-Door Car</td>\n",
       "    </tr>\n",
       "    <tr>\n",
       "      <th>1</th>\n",
       "      <td>CW49887</td>\n",
       "      <td>California</td>\n",
       "      <td>F</td>\n",
       "      <td>Master</td>\n",
       "      <td>462680.11%</td>\n",
       "      <td>79487</td>\n",
       "      <td>114</td>\n",
       "      <td>1/0/00</td>\n",
       "      <td>547.2</td>\n",
       "      <td>Special Auto</td>\n",
       "      <td>SUV</td>\n",
       "    </tr>\n",
       "    <tr>\n",
       "      <th>2</th>\n",
       "      <td>MY31220</td>\n",
       "      <td>California</td>\n",
       "      <td>F</td>\n",
       "      <td>College</td>\n",
       "      <td>899704.02%</td>\n",
       "      <td>54230</td>\n",
       "      <td>112</td>\n",
       "      <td>1/0/00</td>\n",
       "      <td>537.6</td>\n",
       "      <td>Personal Auto</td>\n",
       "      <td>Two-Door Car</td>\n",
       "    </tr>\n",
       "    <tr>\n",
       "      <th>3</th>\n",
       "      <td>UH35128</td>\n",
       "      <td>Oregon</td>\n",
       "      <td>F</td>\n",
       "      <td>College</td>\n",
       "      <td>2580706.30%</td>\n",
       "      <td>71210</td>\n",
       "      <td>214</td>\n",
       "      <td>1/1/00</td>\n",
       "      <td>1027.2</td>\n",
       "      <td>Personal Auto</td>\n",
       "      <td>Luxury Car</td>\n",
       "    </tr>\n",
       "    <tr>\n",
       "      <th>4</th>\n",
       "      <td>WH52799</td>\n",
       "      <td>Arizona</td>\n",
       "      <td>F</td>\n",
       "      <td>College</td>\n",
       "      <td>380812.21%</td>\n",
       "      <td>94903</td>\n",
       "      <td>94</td>\n",
       "      <td>1/0/00</td>\n",
       "      <td>451.2</td>\n",
       "      <td>Corporate Auto</td>\n",
       "      <td>Two-Door Car</td>\n",
       "    </tr>\n",
       "  </tbody>\n",
       "</table>\n",
       "</div>"
      ],
      "text/plain": [
       "  Customer          ST GENDER Education Customer Lifetime Value  Income  \\\n",
       "0  GS98873     Arizona      F  Bachelor              323912.47%   16061   \n",
       "1  CW49887  California      F    Master              462680.11%   79487   \n",
       "2  MY31220  California      F   College              899704.02%   54230   \n",
       "3  UH35128      Oregon      F   College             2580706.30%   71210   \n",
       "4  WH52799     Arizona      F   College              380812.21%   94903   \n",
       "\n",
       "   Monthly Premium Auto Number of Open Complaints  Total Claim Amount  \\\n",
       "0                    88                    1/0/00               633.6   \n",
       "1                   114                    1/0/00               547.2   \n",
       "2                   112                    1/0/00               537.6   \n",
       "3                   214                    1/1/00              1027.2   \n",
       "4                    94                    1/0/00               451.2   \n",
       "\n",
       "      Policy Type  Vehicle Class  \n",
       "0   Personal Auto  Four-Door Car  \n",
       "1    Special Auto            SUV  \n",
       "2   Personal Auto   Two-Door Car  \n",
       "3   Personal Auto     Luxury Car  \n",
       "4  Corporate Auto   Two-Door Car  "
      ]
     },
     "execution_count": 38,
     "metadata": {},
     "output_type": "execute_result"
    }
   ],
   "source": [
    "df2.head()"
   ]
  },
  {
   "cell_type": "code",
   "execution_count": 39,
   "id": "01b54505",
   "metadata": {},
   "outputs": [
    {
     "data": {
      "text/html": [
       "<div>\n",
       "<style scoped>\n",
       "    .dataframe tbody tr th:only-of-type {\n",
       "        vertical-align: middle;\n",
       "    }\n",
       "\n",
       "    .dataframe tbody tr th {\n",
       "        vertical-align: top;\n",
       "    }\n",
       "\n",
       "    .dataframe thead th {\n",
       "        text-align: right;\n",
       "    }\n",
       "</style>\n",
       "<table border=\"1\" class=\"dataframe\">\n",
       "  <thead>\n",
       "    <tr style=\"text-align: right;\">\n",
       "      <th></th>\n",
       "      <th>Customer</th>\n",
       "      <th>State</th>\n",
       "      <th>Customer Lifetime Value</th>\n",
       "      <th>Education</th>\n",
       "      <th>Gender</th>\n",
       "      <th>Income</th>\n",
       "      <th>Monthly Premium Auto</th>\n",
       "      <th>Number of Open Complaints</th>\n",
       "      <th>Policy Type</th>\n",
       "      <th>Total Claim Amount</th>\n",
       "      <th>Vehicle Class</th>\n",
       "    </tr>\n",
       "  </thead>\n",
       "  <tbody>\n",
       "    <tr>\n",
       "      <th>0</th>\n",
       "      <td>SA25987</td>\n",
       "      <td>Washington</td>\n",
       "      <td>3479.137523</td>\n",
       "      <td>High School or Below</td>\n",
       "      <td>M</td>\n",
       "      <td>0</td>\n",
       "      <td>104</td>\n",
       "      <td>0</td>\n",
       "      <td>Personal Auto</td>\n",
       "      <td>499.200000</td>\n",
       "      <td>Two-Door Car</td>\n",
       "    </tr>\n",
       "    <tr>\n",
       "      <th>1</th>\n",
       "      <td>TB86706</td>\n",
       "      <td>Arizona</td>\n",
       "      <td>2502.637401</td>\n",
       "      <td>Master</td>\n",
       "      <td>M</td>\n",
       "      <td>0</td>\n",
       "      <td>66</td>\n",
       "      <td>0</td>\n",
       "      <td>Personal Auto</td>\n",
       "      <td>3.468912</td>\n",
       "      <td>Two-Door Car</td>\n",
       "    </tr>\n",
       "    <tr>\n",
       "      <th>2</th>\n",
       "      <td>ZL73902</td>\n",
       "      <td>Nevada</td>\n",
       "      <td>3265.156348</td>\n",
       "      <td>Bachelor</td>\n",
       "      <td>F</td>\n",
       "      <td>25820</td>\n",
       "      <td>82</td>\n",
       "      <td>0</td>\n",
       "      <td>Personal Auto</td>\n",
       "      <td>393.600000</td>\n",
       "      <td>Four-Door Car</td>\n",
       "    </tr>\n",
       "    <tr>\n",
       "      <th>3</th>\n",
       "      <td>KX23516</td>\n",
       "      <td>California</td>\n",
       "      <td>4455.843406</td>\n",
       "      <td>High School or Below</td>\n",
       "      <td>F</td>\n",
       "      <td>0</td>\n",
       "      <td>121</td>\n",
       "      <td>0</td>\n",
       "      <td>Personal Auto</td>\n",
       "      <td>699.615192</td>\n",
       "      <td>SUV</td>\n",
       "    </tr>\n",
       "    <tr>\n",
       "      <th>4</th>\n",
       "      <td>FN77294</td>\n",
       "      <td>California</td>\n",
       "      <td>7704.958480</td>\n",
       "      <td>High School or Below</td>\n",
       "      <td>M</td>\n",
       "      <td>30366</td>\n",
       "      <td>101</td>\n",
       "      <td>2</td>\n",
       "      <td>Personal Auto</td>\n",
       "      <td>484.800000</td>\n",
       "      <td>SUV</td>\n",
       "    </tr>\n",
       "  </tbody>\n",
       "</table>\n",
       "</div>"
      ],
      "text/plain": [
       "  Customer       State  Customer Lifetime Value             Education Gender  \\\n",
       "0  SA25987  Washington              3479.137523  High School or Below      M   \n",
       "1  TB86706     Arizona              2502.637401                Master      M   \n",
       "2  ZL73902      Nevada              3265.156348              Bachelor      F   \n",
       "3  KX23516  California              4455.843406  High School or Below      F   \n",
       "4  FN77294  California              7704.958480  High School or Below      M   \n",
       "\n",
       "   Income  Monthly Premium Auto  Number of Open Complaints    Policy Type  \\\n",
       "0       0                   104                          0  Personal Auto   \n",
       "1       0                    66                          0  Personal Auto   \n",
       "2   25820                    82                          0  Personal Auto   \n",
       "3       0                   121                          0  Personal Auto   \n",
       "4   30366                   101                          2  Personal Auto   \n",
       "\n",
       "   Total Claim Amount  Vehicle Class  \n",
       "0          499.200000   Two-Door Car  \n",
       "1            3.468912   Two-Door Car  \n",
       "2          393.600000  Four-Door Car  \n",
       "3          699.615192            SUV  \n",
       "4          484.800000            SUV  "
      ]
     },
     "execution_count": 39,
     "metadata": {},
     "output_type": "execute_result"
    }
   ],
   "source": [
    "df3.head()"
   ]
  },
  {
   "cell_type": "code",
   "execution_count": 40,
   "id": "cdb2511f",
   "metadata": {},
   "outputs": [],
   "source": [
    "from data_cleaning import clean_data"
   ]
  },
  {
   "cell_type": "code",
   "execution_count": 41,
   "id": "38086414",
   "metadata": {},
   "outputs": [
    {
     "name": "stdout",
     "output_type": "stream",
     "text": [
      "    Customer          St Gender Education Customer_Lifetime_Value Income  \\\n",
      "0    GS98873     Arizona      F  Bachelor              323912.47%  16061   \n",
      "1    CW49887  California      F    Master              462680.11%  79487   \n",
      "2    MY31220  California      F   College              899704.02%  54230   \n",
      "3    UH35128      Oregon      F   College             2580706.30%  71210   \n",
      "4    WH52799     Arizona      F   College              380812.21%  94903   \n",
      "..       ...         ...    ...       ...                     ...    ...   \n",
      "991  HV85198     Arizona      M    Master              847141.75%  63513   \n",
      "992  BS91566     Arizona      F   College              543121.91%  58161   \n",
      "993  IL40123      Nevada      F   College              568964.41%  83640   \n",
      "994  MY32149  California      F    Master              368672.38%      0   \n",
      "995  SA91515  California      M  Bachelor              399258.39%      0   \n",
      "\n",
      "     Monthly_Premium_Auto Number_Of_Open_Complaints  Total_Claim_Amount  \\\n",
      "0                      88                    1/0/00          633.600000   \n",
      "1                     114                    1/0/00          547.200000   \n",
      "2                     112                    1/0/00          537.600000   \n",
      "3                     214                    1/1/00         1027.200000   \n",
      "4                      94                    1/0/00          451.200000   \n",
      "..                    ...                       ...                 ...   \n",
      "991                    70                    1/0/00          185.667213   \n",
      "992                    68                    1/0/00          140.747286   \n",
      "993                    70                    1/0/00          471.050488   \n",
      "994                    96                    1/0/00           28.460568   \n",
      "995                   111                    1/0/00          700.349052   \n",
      "\n",
      "        Policy_Type  Vehicle_Class  \n",
      "0     Personal Auto  Four-Door Car  \n",
      "1      Special Auto            SUV  \n",
      "2     Personal Auto   Two-Door Car  \n",
      "3     Personal Auto     Luxury Car  \n",
      "4    Corporate Auto   Two-Door Car  \n",
      "..              ...            ...  \n",
      "991   Personal Auto  Four-Door Car  \n",
      "992  Corporate Auto  Four-Door Car  \n",
      "993  Corporate Auto   Two-Door Car  \n",
      "994   Personal Auto   Two-Door Car  \n",
      "995   Personal Auto            SUV  \n",
      "\n",
      "[996 rows x 11 columns]\n"
     ]
    }
   ],
   "source": [
    "clean_df2 = clean_data(df2)\n",
    "print (clean_df2)"
   ]
  },
  {
   "cell_type": "code",
   "execution_count": 42,
   "id": "6b28f6db",
   "metadata": {},
   "outputs": [
    {
     "data": {
      "text/plain": [
       "Index(['Customer', 'ST', 'GENDER', 'Education', 'Customer Lifetime Value',\n",
       "       'Income', 'Monthly Premium Auto', 'Number of Open Complaints',\n",
       "       'Total Claim Amount', 'Policy Type', 'Vehicle Class'],\n",
       "      dtype='object')"
      ]
     },
     "execution_count": 42,
     "metadata": {},
     "output_type": "execute_result"
    }
   ],
   "source": [
    "df2.columns"
   ]
  },
  {
   "cell_type": "code",
   "execution_count": 43,
   "id": "1f13db3c",
   "metadata": {},
   "outputs": [
    {
     "name": "stdout",
     "output_type": "stream",
     "text": [
      "    Customer          ST GENDER Education  Customer Lifetime Value  Income  \\\n",
      "0    GS98873     Arizona      F  Bachelor                323912.47   16061   \n",
      "1    CW49887  California      F    Master                462680.11   79487   \n",
      "2    MY31220  California      F   College                899704.02   54230   \n",
      "3    UH35128      Oregon      F   College               2580706.30   71210   \n",
      "4    WH52799     Arizona      F   College                380812.21   94903   \n",
      "..       ...         ...    ...       ...                      ...     ...   \n",
      "991  HV85198     Arizona      M    Master                847141.75   63513   \n",
      "992  BS91566     Arizona      F   College                543121.91   58161   \n",
      "993  IL40123      Nevada      F   College                568964.41   83640   \n",
      "994  MY32149  California      F    Master                368672.38       0   \n",
      "995  SA91515  California      M  Bachelor                399258.39       0   \n",
      "\n",
      "     Monthly Premium Auto Number of Open Complaints  Total Claim Amount  \\\n",
      "0                      88                    1/0/00          633.600000   \n",
      "1                     114                    1/0/00          547.200000   \n",
      "2                     112                    1/0/00          537.600000   \n",
      "3                     214                    1/1/00         1027.200000   \n",
      "4                      94                    1/0/00          451.200000   \n",
      "..                    ...                       ...                 ...   \n",
      "991                    70                    1/0/00          185.667213   \n",
      "992                    68                    1/0/00          140.747286   \n",
      "993                    70                    1/0/00          471.050488   \n",
      "994                    96                    1/0/00           28.460568   \n",
      "995                   111                    1/0/00          700.349052   \n",
      "\n",
      "        Policy Type  Vehicle Class  \n",
      "0     Personal Auto  Four-Door Car  \n",
      "1      Special Auto            SUV  \n",
      "2     Personal Auto   Two-Door Car  \n",
      "3     Personal Auto     Luxury Car  \n",
      "4    Corporate Auto   Two-Door Car  \n",
      "..              ...            ...  \n",
      "991   Personal Auto  Four-Door Car  \n",
      "992  Corporate Auto  Four-Door Car  \n",
      "993  Corporate Auto   Two-Door Car  \n",
      "994   Personal Auto   Two-Door Car  \n",
      "995   Personal Auto            SUV  \n",
      "\n",
      "[996 rows x 11 columns]\n"
     ]
    }
   ],
   "source": [
    "df2['Customer Lifetime Value'] = df2['Customer Lifetime Value'].str.replace('%', '', regex=False).astype(float)\n",
    "print (df2)"
   ]
  },
  {
   "cell_type": "code",
   "execution_count": 44,
   "id": "76c70cce",
   "metadata": {},
   "outputs": [
    {
     "name": "stdout",
     "output_type": "stream",
     "text": [
      "    Customer          ST GENDER Education  Customer Lifetime Value  Income  \\\n",
      "0    GS98873     Arizona      F  Bachelor                323912.47   16061   \n",
      "1    CW49887  California      F    Master                462680.11   79487   \n",
      "2    MY31220  California      F   College                899704.02   54230   \n",
      "3    UH35128      Oregon      F   College               2580706.30   71210   \n",
      "4    WH52799     Arizona      F   College                380812.21   94903   \n",
      "..       ...         ...    ...       ...                      ...     ...   \n",
      "991  HV85198     Arizona      M    Master                847141.75   63513   \n",
      "992  BS91566     Arizona      F   College                543121.91   58161   \n",
      "993  IL40123      Nevada      F   College                568964.41   83640   \n",
      "994  MY32149  California      F    Master                368672.38       0   \n",
      "995  SA91515  California      M  Bachelor                399258.39       0   \n",
      "\n",
      "     Monthly Premium Auto  Number of Open Complaints  Total Claim Amount  \\\n",
      "0                      88                          1          633.600000   \n",
      "1                     114                          1          547.200000   \n",
      "2                     112                          1          537.600000   \n",
      "3                     214                          2         1027.200000   \n",
      "4                      94                          1          451.200000   \n",
      "..                    ...                        ...                 ...   \n",
      "991                    70                          1          185.667213   \n",
      "992                    68                          1          140.747286   \n",
      "993                    70                          1          471.050488   \n",
      "994                    96                          1           28.460568   \n",
      "995                   111                          1          700.349052   \n",
      "\n",
      "        Policy Type  Vehicle Class  \n",
      "0     Personal Auto  Four-Door Car  \n",
      "1      Special Auto            SUV  \n",
      "2     Personal Auto   Two-Door Car  \n",
      "3     Personal Auto     Luxury Car  \n",
      "4    Corporate Auto   Two-Door Car  \n",
      "..              ...            ...  \n",
      "991   Personal Auto  Four-Door Car  \n",
      "992  Corporate Auto  Four-Door Car  \n",
      "993  Corporate Auto   Two-Door Car  \n",
      "994   Personal Auto   Two-Door Car  \n",
      "995   Personal Auto            SUV  \n",
      "\n",
      "[996 rows x 11 columns]\n"
     ]
    }
   ],
   "source": [
    "df2['Number of Open Complaints'] = df2['Number of Open Complaints'].apply(lambda x: sum([int(i) for i in x.split('/') if i.isdigit()]))\n",
    "print (df2)"
   ]
  },
  {
   "cell_type": "code",
   "execution_count": 45,
   "id": "6caed068",
   "metadata": {},
   "outputs": [
    {
     "data": {
      "text/plain": [
       "array(['F', 'M', nan], dtype=object)"
      ]
     },
     "execution_count": 45,
     "metadata": {},
     "output_type": "execute_result"
    }
   ],
   "source": [
    "df2['GENDER'] = df2['GENDER'].replace({'Female': 'F', 'Femal': 'F', 'Male': 'M', 'female': 'F'})\n",
    "df2.GENDER.unique()\n"
   ]
  },
  {
   "cell_type": "code",
   "execution_count": 46,
   "id": "2f153c16",
   "metadata": {},
   "outputs": [
    {
     "data": {
      "text/plain": [
       "array(['Arizona', 'California', 'Oregon', 'Nevada', 'Washington'],\n",
       "      dtype=object)"
      ]
     },
     "execution_count": 46,
     "metadata": {},
     "output_type": "execute_result"
    }
   ],
   "source": [
    "df2['ST'] = df2['ST'].replace({'AZ': 'Arizona', 'Cali': 'California', 'WA': 'Washington', 'OR': 'Oregon'})\n",
    "df2.ST.unique()"
   ]
  },
  {
   "cell_type": "code",
   "execution_count": 47,
   "id": "7ef4be78",
   "metadata": {},
   "outputs": [
    {
     "name": "stdout",
     "output_type": "stream",
     "text": [
      "Index(['Customer_ID', 'State', 'Gender', 'Education',\n",
      "       'Customer Lifetime Value', 'Income', 'Monthly Premium Auto',\n",
      "       'Number of Open Complaints', 'Total Claim Amount', 'Policy Type',\n",
      "       'Vehicle Class'],\n",
      "      dtype='object')\n"
     ]
    }
   ],
   "source": [
    "df2 = df2.rename(columns={'Customer': 'Customer_ID','ST': 'State', 'GENDER': 'Gender'})\n",
    "print (df2.columns)"
   ]
  },
  {
   "cell_type": "code",
   "execution_count": 48,
   "id": "3b14ccfd",
   "metadata": {},
   "outputs": [
    {
     "name": "stdout",
     "output_type": "stream",
     "text": [
      "    Customer_ID       State Gender Education  Customer_Lifetime_Value  Income  \\\n",
      "0       GS98873     Arizona      F  Bachelor                323912.47   16061   \n",
      "1       CW49887  California      F    Master                462680.11   79487   \n",
      "2       MY31220  California      F   College                899704.02   54230   \n",
      "3       UH35128      Oregon      F   College               2580706.30   71210   \n",
      "4       WH52799     Arizona      F   College                380812.21   94903   \n",
      "..          ...         ...    ...       ...                      ...     ...   \n",
      "991     HV85198     Arizona      M    Master                847141.75   63513   \n",
      "992     BS91566     Arizona      F   College                543121.91   58161   \n",
      "993     IL40123      Nevada      F   College                568964.41   83640   \n",
      "994     MY32149  California      F    Master                368672.38       0   \n",
      "995     SA91515  California      M  Bachelor                399258.39       0   \n",
      "\n",
      "     Monthly_Premium_Auto  Number_of_Open_Complaints  Total_Claim_Amount  \\\n",
      "0                      88                          1          633.600000   \n",
      "1                     114                          1          547.200000   \n",
      "2                     112                          1          537.600000   \n",
      "3                     214                          2         1027.200000   \n",
      "4                      94                          1          451.200000   \n",
      "..                    ...                        ...                 ...   \n",
      "991                    70                          1          185.667213   \n",
      "992                    68                          1          140.747286   \n",
      "993                    70                          1          471.050488   \n",
      "994                    96                          1           28.460568   \n",
      "995                   111                          1          700.349052   \n",
      "\n",
      "        Policy_Type  Vehicle_Class  \n",
      "0     Personal Auto  Four-Door Car  \n",
      "1      Special Auto            SUV  \n",
      "2     Personal Auto   Two-Door Car  \n",
      "3     Personal Auto     Luxury Car  \n",
      "4    Corporate Auto   Two-Door Car  \n",
      "..              ...            ...  \n",
      "991   Personal Auto  Four-Door Car  \n",
      "992  Corporate Auto  Four-Door Car  \n",
      "993  Corporate Auto   Two-Door Car  \n",
      "994   Personal Auto   Two-Door Car  \n",
      "995   Personal Auto            SUV  \n",
      "\n",
      "[996 rows x 11 columns]\n"
     ]
    }
   ],
   "source": [
    "df2.columns = df2.columns.str.replace(' ', '_')\n",
    "print (df2)"
   ]
  },
  {
   "cell_type": "code",
   "execution_count": 49,
   "id": "5d625f6d",
   "metadata": {},
   "outputs": [
    {
     "name": "stdout",
     "output_type": "stream",
     "text": [
      "    Customer_ID       State Gender Education  Customer_Lifetime_Value  \\\n",
      "0       GS98873     Arizona      F  Bachelor                323912.47   \n",
      "1       CW49887  California      F    Master                462680.11   \n",
      "2       MY31220  California      F   College                899704.02   \n",
      "3       UH35128      Oregon      F   College               2580706.30   \n",
      "4       WH52799     Arizona      F   College                380812.21   \n",
      "..          ...         ...    ...       ...                      ...   \n",
      "991     HV85198     Arizona      M    Master                847141.75   \n",
      "992     BS91566     Arizona      F   College                543121.91   \n",
      "993     IL40123      Nevada      F   College                568964.41   \n",
      "994     MY32149  California      F    Master                368672.38   \n",
      "995     SA91515  California      M  Bachelor                399258.39   \n",
      "\n",
      "      Income  Monthly_Premium_Auto  Number_of_Open_Complaints  \\\n",
      "0    16061.0                    88                          1   \n",
      "1    79487.0                   114                          1   \n",
      "2    54230.0                   112                          1   \n",
      "3    71210.0                   214                          2   \n",
      "4    94903.0                    94                          1   \n",
      "..       ...                   ...                        ...   \n",
      "991  63513.0                    70                          1   \n",
      "992  58161.0                    68                          1   \n",
      "993  83640.0                    70                          1   \n",
      "994      0.0                    96                          1   \n",
      "995      0.0                   111                          1   \n",
      "\n",
      "     Total_Claim_Amount     Policy_Type  Vehicle_Class  \n",
      "0            633.600000   Personal Auto  Four-Door Car  \n",
      "1            547.200000    Special Auto            SUV  \n",
      "2            537.600000   Personal Auto   Two-Door Car  \n",
      "3           1027.200000   Personal Auto     Luxury Car  \n",
      "4            451.200000  Corporate Auto   Two-Door Car  \n",
      "..                  ...             ...            ...  \n",
      "991          185.667213   Personal Auto  Four-Door Car  \n",
      "992          140.747286  Corporate Auto  Four-Door Car  \n",
      "993          471.050488  Corporate Auto   Two-Door Car  \n",
      "994           28.460568   Personal Auto   Two-Door Car  \n",
      "995          700.349052   Personal Auto            SUV  \n",
      "\n",
      "[996 rows x 11 columns]\n"
     ]
    }
   ],
   "source": [
    "df2['Income'] = df2['Income'].astype(float)\n",
    "print (df2)"
   ]
  },
  {
   "cell_type": "code",
   "execution_count": 50,
   "id": "15f4d69e",
   "metadata": {},
   "outputs": [
    {
     "data": {
      "text/plain": [
       "array(['Four-Door Car', 'SUV', 'Two-Door Car', 'Luxury'], dtype=object)"
      ]
     },
     "execution_count": 50,
     "metadata": {},
     "output_type": "execute_result"
    }
   ],
   "source": [
    "df2['Vehicle_Class'] = df2['Vehicle_Class'].replace({'Sports Car': 'Luxury', 'Luxury SUV': 'Luxury', 'Luxury Car': 'Luxury'})\n",
    "df2['Vehicle_Class'].unique()"
   ]
  },
  {
   "cell_type": "code",
   "execution_count": 24,
   "id": "9a8bc23d",
   "metadata": {},
   "outputs": [
    {
     "data": {
      "text/html": [
       "<div>\n",
       "<style scoped>\n",
       "    .dataframe tbody tr th:only-of-type {\n",
       "        vertical-align: middle;\n",
       "    }\n",
       "\n",
       "    .dataframe tbody tr th {\n",
       "        vertical-align: top;\n",
       "    }\n",
       "\n",
       "    .dataframe thead th {\n",
       "        text-align: right;\n",
       "    }\n",
       "</style>\n",
       "<table border=\"1\" class=\"dataframe\">\n",
       "  <thead>\n",
       "    <tr style=\"text-align: right;\">\n",
       "      <th></th>\n",
       "      <th>Customer_ID</th>\n",
       "      <th>State</th>\n",
       "      <th>Gender</th>\n",
       "      <th>Education</th>\n",
       "      <th>Customer_Lifetime_Value</th>\n",
       "      <th>Income</th>\n",
       "      <th>Monthly_Premium_Auto</th>\n",
       "      <th>Number_of_Open_Complaints</th>\n",
       "      <th>Total_Claim_Amount</th>\n",
       "      <th>Policy_Type</th>\n",
       "      <th>Vehicle_Class</th>\n",
       "    </tr>\n",
       "  </thead>\n",
       "  <tbody>\n",
       "    <tr>\n",
       "      <th>0</th>\n",
       "      <td>GS98873</td>\n",
       "      <td>Arizona</td>\n",
       "      <td>F</td>\n",
       "      <td>Bachelor</td>\n",
       "      <td>323912.47</td>\n",
       "      <td>16061.0</td>\n",
       "      <td>88</td>\n",
       "      <td>1</td>\n",
       "      <td>633.6</td>\n",
       "      <td>Personal Auto</td>\n",
       "      <td>Four-Door Car</td>\n",
       "    </tr>\n",
       "    <tr>\n",
       "      <th>1</th>\n",
       "      <td>CW49887</td>\n",
       "      <td>California</td>\n",
       "      <td>F</td>\n",
       "      <td>Master</td>\n",
       "      <td>462680.11</td>\n",
       "      <td>79487.0</td>\n",
       "      <td>114</td>\n",
       "      <td>1</td>\n",
       "      <td>547.2</td>\n",
       "      <td>Special Auto</td>\n",
       "      <td>SUV</td>\n",
       "    </tr>\n",
       "    <tr>\n",
       "      <th>2</th>\n",
       "      <td>MY31220</td>\n",
       "      <td>California</td>\n",
       "      <td>F</td>\n",
       "      <td>College</td>\n",
       "      <td>899704.02</td>\n",
       "      <td>54230.0</td>\n",
       "      <td>112</td>\n",
       "      <td>1</td>\n",
       "      <td>537.6</td>\n",
       "      <td>Personal Auto</td>\n",
       "      <td>Two-Door Car</td>\n",
       "    </tr>\n",
       "    <tr>\n",
       "      <th>3</th>\n",
       "      <td>UH35128</td>\n",
       "      <td>Oregon</td>\n",
       "      <td>F</td>\n",
       "      <td>College</td>\n",
       "      <td>2580706.30</td>\n",
       "      <td>71210.0</td>\n",
       "      <td>214</td>\n",
       "      <td>2</td>\n",
       "      <td>1027.2</td>\n",
       "      <td>Personal Auto</td>\n",
       "      <td>Luxury</td>\n",
       "    </tr>\n",
       "    <tr>\n",
       "      <th>4</th>\n",
       "      <td>WH52799</td>\n",
       "      <td>Arizona</td>\n",
       "      <td>F</td>\n",
       "      <td>College</td>\n",
       "      <td>380812.21</td>\n",
       "      <td>94903.0</td>\n",
       "      <td>94</td>\n",
       "      <td>1</td>\n",
       "      <td>451.2</td>\n",
       "      <td>Corporate Auto</td>\n",
       "      <td>Two-Door Car</td>\n",
       "    </tr>\n",
       "  </tbody>\n",
       "</table>\n",
       "</div>"
      ],
      "text/plain": [
       "  Customer_ID       State Gender Education  Customer_Lifetime_Value   Income  \\\n",
       "0     GS98873     Arizona      F  Bachelor                323912.47  16061.0   \n",
       "1     CW49887  California      F    Master                462680.11  79487.0   \n",
       "2     MY31220  California      F   College                899704.02  54230.0   \n",
       "3     UH35128      Oregon      F   College               2580706.30  71210.0   \n",
       "4     WH52799     Arizona      F   College                380812.21  94903.0   \n",
       "\n",
       "   Monthly_Premium_Auto  Number_of_Open_Complaints  Total_Claim_Amount  \\\n",
       "0                    88                          1               633.6   \n",
       "1                   114                          1               547.2   \n",
       "2                   112                          1               537.6   \n",
       "3                   214                          2              1027.2   \n",
       "4                    94                          1               451.2   \n",
       "\n",
       "      Policy_Type  Vehicle_Class  \n",
       "0   Personal Auto  Four-Door Car  \n",
       "1    Special Auto            SUV  \n",
       "2   Personal Auto   Two-Door Car  \n",
       "3   Personal Auto         Luxury  \n",
       "4  Corporate Auto   Two-Door Car  "
      ]
     },
     "execution_count": 24,
     "metadata": {},
     "output_type": "execute_result"
    }
   ],
   "source": [
    "df2.head()"
   ]
  },
  {
   "cell_type": "code",
   "execution_count": 51,
   "id": "44ba8bd5",
   "metadata": {},
   "outputs": [
    {
     "name": "stdout",
     "output_type": "stream",
     "text": [
      "Customer_ID                  0\n",
      "State                        0\n",
      "Gender                       5\n",
      "Education                    0\n",
      "Customer_Lifetime_Value      4\n",
      "Income                       0\n",
      "Monthly_Premium_Auto         0\n",
      "Number_of_Open_Complaints    0\n",
      "Total_Claim_Amount           0\n",
      "Policy_Type                  0\n",
      "Vehicle_Class                0\n",
      "dtype: int64\n"
     ]
    }
   ],
   "source": [
    "df2 = df2.isnull().sum()\n",
    "print (df2)"
   ]
  },
  {
   "cell_type": "code",
   "execution_count": 52,
   "id": "a4c4ecea",
   "metadata": {},
   "outputs": [
    {
     "name": "stdout",
     "output_type": "stream",
     "text": [
      "     Customer       State  Customer_Lifetime_Value             Education  \\\n",
      "0     SA25987  Washington              3479.137523  High School or Below   \n",
      "1     TB86706     Arizona              2502.637401                Master   \n",
      "2     ZL73902      Nevada              3265.156348              Bachelor   \n",
      "3     KX23516  California              4455.843406  High School or Below   \n",
      "4     FN77294  California              7704.958480  High School or Below   \n",
      "...       ...         ...                      ...                   ...   \n",
      "7065  LA72316  California             23405.987980              Bachelor   \n",
      "7066  PK87824  California              3096.511217               College   \n",
      "7067  TD14365  California              8163.890428              Bachelor   \n",
      "7068  UP19263  California              7524.442436               College   \n",
      "7069  Y167826  California              2611.836866               College   \n",
      "\n",
      "     Gender Income  Monthly_Premium_Auto  Number_Of_Open_Complaints  \\\n",
      "0         M      0                   104                          0   \n",
      "1         M      0                    66                          0   \n",
      "2         F  25820                    82                          0   \n",
      "3         F      0                   121                          0   \n",
      "4         M  30366                   101                          2   \n",
      "...     ...    ...                   ...                        ...   \n",
      "7065      M  71941                    73                          0   \n",
      "7066      F  21604                    79                          0   \n",
      "7067      M      0                    85                          3   \n",
      "7068      M  21941                    96                          0   \n",
      "7069      M      0                    77                          0   \n",
      "\n",
      "         Policy_Type  Total_Claim_Amount  Vehicle_Class  \n",
      "0      Personal Auto          499.200000   Two-Door Car  \n",
      "1      Personal Auto            3.468912   Two-Door Car  \n",
      "2      Personal Auto          393.600000  Four-Door Car  \n",
      "3      Personal Auto          699.615192            SUV  \n",
      "4      Personal Auto          484.800000            SUV  \n",
      "...              ...                 ...            ...  \n",
      "7065   Personal Auto          198.234764  Four-Door Car  \n",
      "7066  Corporate Auto          379.200000  Four-Door Car  \n",
      "7067  Corporate Auto          790.784983  Four-Door Car  \n",
      "7068   Personal Auto          691.200000  Four-Door Car  \n",
      "7069  Corporate Auto          369.600000   Two-Door Car  \n",
      "\n",
      "[7070 rows x 11 columns]\n"
     ]
    }
   ],
   "source": [
    "clean_df3 = clean_data(df3)\n",
    "print (clean_df3)"
   ]
  },
  {
   "cell_type": "code",
   "execution_count": 53,
   "id": "c7a65445",
   "metadata": {},
   "outputs": [
    {
     "data": {
      "text/html": [
       "<div>\n",
       "<style scoped>\n",
       "    .dataframe tbody tr th:only-of-type {\n",
       "        vertical-align: middle;\n",
       "    }\n",
       "\n",
       "    .dataframe tbody tr th {\n",
       "        vertical-align: top;\n",
       "    }\n",
       "\n",
       "    .dataframe thead th {\n",
       "        text-align: right;\n",
       "    }\n",
       "</style>\n",
       "<table border=\"1\" class=\"dataframe\">\n",
       "  <thead>\n",
       "    <tr style=\"text-align: right;\">\n",
       "      <th></th>\n",
       "      <th>Customer</th>\n",
       "      <th>State</th>\n",
       "      <th>Customer Lifetime Value</th>\n",
       "      <th>Education</th>\n",
       "      <th>Gender</th>\n",
       "      <th>Income</th>\n",
       "      <th>Monthly Premium Auto</th>\n",
       "      <th>Number of Open Complaints</th>\n",
       "      <th>Policy Type</th>\n",
       "      <th>Total Claim Amount</th>\n",
       "      <th>Vehicle Class</th>\n",
       "    </tr>\n",
       "  </thead>\n",
       "  <tbody>\n",
       "    <tr>\n",
       "      <th>0</th>\n",
       "      <td>SA25987</td>\n",
       "      <td>Washington</td>\n",
       "      <td>3479.137523</td>\n",
       "      <td>High School or Below</td>\n",
       "      <td>M</td>\n",
       "      <td>0</td>\n",
       "      <td>104</td>\n",
       "      <td>0</td>\n",
       "      <td>Personal Auto</td>\n",
       "      <td>499.200000</td>\n",
       "      <td>Two-Door Car</td>\n",
       "    </tr>\n",
       "    <tr>\n",
       "      <th>1</th>\n",
       "      <td>TB86706</td>\n",
       "      <td>Arizona</td>\n",
       "      <td>2502.637401</td>\n",
       "      <td>Master</td>\n",
       "      <td>M</td>\n",
       "      <td>0</td>\n",
       "      <td>66</td>\n",
       "      <td>0</td>\n",
       "      <td>Personal Auto</td>\n",
       "      <td>3.468912</td>\n",
       "      <td>Two-Door Car</td>\n",
       "    </tr>\n",
       "    <tr>\n",
       "      <th>2</th>\n",
       "      <td>ZL73902</td>\n",
       "      <td>Nevada</td>\n",
       "      <td>3265.156348</td>\n",
       "      <td>Bachelor</td>\n",
       "      <td>F</td>\n",
       "      <td>25820</td>\n",
       "      <td>82</td>\n",
       "      <td>0</td>\n",
       "      <td>Personal Auto</td>\n",
       "      <td>393.600000</td>\n",
       "      <td>Four-Door Car</td>\n",
       "    </tr>\n",
       "    <tr>\n",
       "      <th>3</th>\n",
       "      <td>KX23516</td>\n",
       "      <td>California</td>\n",
       "      <td>4455.843406</td>\n",
       "      <td>High School or Below</td>\n",
       "      <td>F</td>\n",
       "      <td>0</td>\n",
       "      <td>121</td>\n",
       "      <td>0</td>\n",
       "      <td>Personal Auto</td>\n",
       "      <td>699.615192</td>\n",
       "      <td>SUV</td>\n",
       "    </tr>\n",
       "    <tr>\n",
       "      <th>4</th>\n",
       "      <td>FN77294</td>\n",
       "      <td>California</td>\n",
       "      <td>7704.958480</td>\n",
       "      <td>High School or Below</td>\n",
       "      <td>M</td>\n",
       "      <td>30366</td>\n",
       "      <td>101</td>\n",
       "      <td>2</td>\n",
       "      <td>Personal Auto</td>\n",
       "      <td>484.800000</td>\n",
       "      <td>SUV</td>\n",
       "    </tr>\n",
       "  </tbody>\n",
       "</table>\n",
       "</div>"
      ],
      "text/plain": [
       "  Customer       State  Customer Lifetime Value             Education Gender  \\\n",
       "0  SA25987  Washington              3479.137523  High School or Below      M   \n",
       "1  TB86706     Arizona              2502.637401                Master      M   \n",
       "2  ZL73902      Nevada              3265.156348              Bachelor      F   \n",
       "3  KX23516  California              4455.843406  High School or Below      F   \n",
       "4  FN77294  California              7704.958480  High School or Below      M   \n",
       "\n",
       "   Income  Monthly Premium Auto  Number of Open Complaints    Policy Type  \\\n",
       "0       0                   104                          0  Personal Auto   \n",
       "1       0                    66                          0  Personal Auto   \n",
       "2   25820                    82                          0  Personal Auto   \n",
       "3       0                   121                          0  Personal Auto   \n",
       "4   30366                   101                          2  Personal Auto   \n",
       "\n",
       "   Total Claim Amount  Vehicle Class  \n",
       "0          499.200000   Two-Door Car  \n",
       "1            3.468912   Two-Door Car  \n",
       "2          393.600000  Four-Door Car  \n",
       "3          699.615192            SUV  \n",
       "4          484.800000            SUV  "
      ]
     },
     "execution_count": 53,
     "metadata": {},
     "output_type": "execute_result"
    }
   ],
   "source": [
    "df3.head()"
   ]
  },
  {
   "cell_type": "code",
   "execution_count": 54,
   "id": "f5e5d7fa",
   "metadata": {},
   "outputs": [
    {
     "data": {
      "text/plain": [
       "Index(['Customer', 'State', 'Customer Lifetime Value', 'Education', 'Gender',\n",
       "       'Income', 'Monthly Premium Auto', 'Number of Open Complaints',\n",
       "       'Policy Type', 'Total Claim Amount', 'Vehicle Class'],\n",
       "      dtype='object')"
      ]
     },
     "execution_count": 54,
     "metadata": {},
     "output_type": "execute_result"
    }
   ],
   "source": [
    "df3.columns"
   ]
  },
  {
   "cell_type": "code",
   "execution_count": 55,
   "id": "1f9d1e6b",
   "metadata": {},
   "outputs": [
    {
     "data": {
      "text/plain": [
       "array(['Two-Door Car', 'Four-Door Car', 'SUV', 'Luxury'], dtype=object)"
      ]
     },
     "execution_count": 55,
     "metadata": {},
     "output_type": "execute_result"
    }
   ],
   "source": [
    "df3['Vehicle Class'] = df3['Vehicle Class'].replace({'Sports Car': 'Luxury', 'Luxury SUV': 'Luxury', 'Luxury Car': 'Luxury'})\n",
    "df3['Vehicle Class'].unique()"
   ]
  },
  {
   "cell_type": "code",
   "execution_count": 56,
   "id": "5176860c",
   "metadata": {},
   "outputs": [
    {
     "name": "stdout",
     "output_type": "stream",
     "text": [
      "Index(['Customer', 'State', 'Customer_Lifetime_Value', 'Education', 'Gender',\n",
      "       'Income', 'Monthly_Premium_Auto', 'Number_of_Open_Complaints',\n",
      "       'Policy_Type', 'Total_Claim_Amount', 'Vehicle_Class'],\n",
      "      dtype='object')\n"
     ]
    }
   ],
   "source": [
    "df3.columns = df3.columns.str.replace(' ', '_')\n",
    "print (df3.columns)"
   ]
  },
  {
   "cell_type": "code",
   "execution_count": 57,
   "id": "98ec18d6",
   "metadata": {},
   "outputs": [
    {
     "name": "stdout",
     "output_type": "stream",
     "text": [
      "Index(['Customer_ID', 'State', 'Customer_Lifetime_Value', 'Education',\n",
      "       'Gender', 'Income', 'Monthly_Premium_Auto', 'Number_of_Open_Complaints',\n",
      "       'Policy_Type', 'Total_Claim_Amount', 'Vehicle_Class'],\n",
      "      dtype='object')\n"
     ]
    }
   ],
   "source": [
    "df3 = df3.rename(columns={'Customer': 'Customer_ID'})\n",
    "print (df3.columns)"
   ]
  },
  {
   "cell_type": "code",
   "execution_count": 59,
   "id": "69352e04",
   "metadata": {},
   "outputs": [
    {
     "name": "stdout",
     "output_type": "stream",
     "text": [
      "Index(['Customer_ID', 'State', 'Gender', 'Education',\n",
      "       'Customer_Lifetime_Value', 'Income', 'Monthly_Premium_Auto',\n",
      "       'Number_of_Open_Complaints', 'Policy_Type', 'Vehicle_Class',\n",
      "       'Total_Claim_Amount'],\n",
      "      dtype='object')\n",
      "Index(['Customer_ID', 'State', 'Customer_Lifetime_Value', 'Education',\n",
      "       'Gender', 'Income', 'Monthly_Premium_Auto', 'Number_of_Open_Complaints',\n",
      "       'Policy_Type', 'Total_Claim_Amount', 'Vehicle_Class'],\n",
      "      dtype='object')\n"
     ]
    }
   ],
   "source": [
    "df1.columns = df1.columns.str.strip()\n",
    "df3.columns = df3.columns.str.strip()\n",
    "print (df1.columns)\n",
    "print (df3.columns)"
   ]
  },
  {
   "cell_type": "code",
   "execution_count": 61,
   "id": "9bf21216",
   "metadata": {},
   "outputs": [
    {
     "name": "stdout",
     "output_type": "stream",
     "text": [
      "Customer_ID                  0\n",
      "State                        0\n",
      "Customer_Lifetime_Value      0\n",
      "Education                    0\n",
      "Gender                       0\n",
      "Income                       0\n",
      "Monthly_Premium_Auto         0\n",
      "Number_of_Open_Complaints    0\n",
      "Policy_Type                  0\n",
      "Total_Claim_Amount           0\n",
      "Vehicle_Class                0\n",
      "dtype: int64\n"
     ]
    }
   ],
   "source": [
    "df3 = df3.isnull().sum()\n",
    "print (df3)"
   ]
  },
  {
   "cell_type": "code",
   "execution_count": 62,
   "id": "7b766a2e",
   "metadata": {},
   "outputs": [
    {
     "name": "stdout",
     "output_type": "stream",
     "text": [
      "     Customer_ID       State Gender             Education  \\\n",
      "0        RB50392  Washington      F                Master   \n",
      "1        QZ44356     Arizona      F              Bachelor   \n",
      "2        AI49188      Nevada      F              Bachelor   \n",
      "3        WW63253  California      M              Bachelor   \n",
      "4        GA49547  Washington      M  High School or Below   \n",
      "...          ...         ...    ...                   ...   \n",
      "1089         NaN         NaN    NaN                   NaN   \n",
      "1090         NaN         NaN    NaN                   NaN   \n",
      "1091         NaN         NaN    NaN                   NaN   \n",
      "1092         NaN         NaN    NaN                   NaN   \n",
      "1093         NaN         NaN    NaN                   NaN   \n",
      "\n",
      "      Customer_Lifetime_Value   Income  Monthly_Premium_Auto  \\\n",
      "0                    588174.0      0.0                1000.0   \n",
      "1                    697953.0      0.0                  94.0   \n",
      "2                   1288743.0  48767.0                 108.0   \n",
      "3                    764586.0      0.0                 106.0   \n",
      "4                    536307.0  36357.0                  68.0   \n",
      "...                       ...      ...                   ...   \n",
      "1089                      NaN      NaN                   NaN   \n",
      "1090                      NaN      NaN                   NaN   \n",
      "1091                      NaN      NaN                   NaN   \n",
      "1092                      NaN      NaN                   NaN   \n",
      "1093                      NaN      NaN                   NaN   \n",
      "\n",
      "      Number_of_Open_Complaints     Policy_Type  Vehicle_Class  \\\n",
      "0                           0.0   Personal Auto  Four-Door Car   \n",
      "1                           0.0   Personal Auto  Four-Door Car   \n",
      "2                           0.0   Personal Auto   Two-Door Car   \n",
      "3                           0.0  Corporate Auto            SUV   \n",
      "4                           0.0   Personal Auto  Four-Door Car   \n",
      "...                         ...             ...            ...   \n",
      "1089                        NaN             NaN            NaN   \n",
      "1090                        NaN             NaN            NaN   \n",
      "1091                        NaN             NaN            NaN   \n",
      "1092                        NaN             NaN            NaN   \n",
      "1093                        NaN             NaN            NaN   \n",
      "\n",
      "      Total_Claim_Amount    0  \n",
      "0                    2.0  NaN  \n",
      "1                 1131.0  NaN  \n",
      "2                  566.0  NaN  \n",
      "3                  529.0  NaN  \n",
      "4                   17.0  NaN  \n",
      "...                  ...  ...  \n",
      "1089                 NaN  0.0  \n",
      "1090                 NaN  0.0  \n",
      "1091                 NaN  0.0  \n",
      "1092                 NaN  0.0  \n",
      "1093                 NaN  0.0  \n",
      "\n",
      "[1094 rows x 12 columns]\n"
     ]
    }
   ],
   "source": [
    "df_concatenado = pd.concat([df1, df2, df3], axis=0, ignore_index=True)\n",
    "print (df_concatenado)"
   ]
  },
  {
   "cell_type": "code",
   "execution_count": 63,
   "id": "42b2a895",
   "metadata": {},
   "outputs": [
    {
     "data": {
      "text/plain": [
       "array(['F', 'M', nan], dtype=object)"
      ]
     },
     "execution_count": 63,
     "metadata": {},
     "output_type": "execute_result"
    }
   ],
   "source": [
    "df_concatenado['Gender'].unique()"
   ]
  },
  {
   "cell_type": "code",
   "execution_count": 64,
   "id": "afabc91a",
   "metadata": {},
   "outputs": [
    {
     "data": {
      "text/plain": [
       "Customer_ID                    23\n",
       "State                          23\n",
       "Gender                         22\n",
       "Education                      23\n",
       "Customer_Lifetime_Value        22\n",
       "Income                         22\n",
       "Monthly_Premium_Auto           22\n",
       "Number_of_Open_Complaints      23\n",
       "Policy_Type                    23\n",
       "Vehicle_Class                  23\n",
       "Total_Claim_Amount             22\n",
       "0                            1072\n",
       "dtype: int64"
      ]
     },
     "execution_count": 64,
     "metadata": {},
     "output_type": "execute_result"
    }
   ],
   "source": [
    "df_concatenado.isnull().sum()"
   ]
  },
  {
   "cell_type": "code",
   "execution_count": 65,
   "id": "f97ac56c",
   "metadata": {},
   "outputs": [
    {
     "name": "stdout",
     "output_type": "stream",
     "text": [
      "<class 'pandas.core.frame.DataFrame'>\n",
      "RangeIndex: 1094 entries, 0 to 1093\n",
      "Data columns (total 12 columns):\n",
      " #   Column                     Non-Null Count  Dtype  \n",
      "---  ------                     --------------  -----  \n",
      " 0   Customer_ID                1071 non-null   object \n",
      " 1   State                      1071 non-null   object \n",
      " 2   Gender                     1072 non-null   object \n",
      " 3   Education                  1071 non-null   object \n",
      " 4   Customer_Lifetime_Value    1072 non-null   float64\n",
      " 5   Income                     1072 non-null   float64\n",
      " 6   Monthly_Premium_Auto       1072 non-null   float64\n",
      " 7   Number_of_Open_Complaints  1071 non-null   float64\n",
      " 8   Policy_Type                1071 non-null   object \n",
      " 9   Vehicle_Class              1071 non-null   object \n",
      " 10  Total_Claim_Amount         1072 non-null   float64\n",
      " 11  0                          22 non-null     float64\n",
      "dtypes: float64(6), object(6)\n",
      "memory usage: 102.7+ KB\n"
     ]
    }
   ],
   "source": [
    "df_concatenado.info()"
   ]
  },
  {
   "cell_type": "code",
   "execution_count": 72,
   "id": "d625d35b",
   "metadata": {},
   "outputs": [
    {
     "name": "stdout",
     "output_type": "stream",
     "text": [
      "Customer_ID                    23\n",
      "State                          23\n",
      "Gender                         22\n",
      "Education                      23\n",
      "Customer_Lifetime_Value        22\n",
      "Income                         22\n",
      "Monthly_Premium_Auto           22\n",
      "Number_of_Open_Complaints      23\n",
      "Policy_Type                    23\n",
      "Vehicle_Class                  23\n",
      "Total_Claim_Amount             22\n",
      "0                            1072\n",
      "dtype: int64\n"
     ]
    }
   ],
   "source": [
    "nulos_por_columna = df_concatenado.isnull().sum()\n",
    "print (nulos_por_columna)"
   ]
  },
  {
   "cell_type": "markdown",
   "id": "31b8a9e7-7db9-4604-991b-ef6771603e57",
   "metadata": {
    "id": "31b8a9e7-7db9-4604-991b-ef6771603e57"
   },
   "source": [
    "# Challenge 2: Structuring Data"
   ]
  },
  {
   "cell_type": "markdown",
   "id": "a877fd6d-7a0c-46d2-9657-f25036e4ca4b",
   "metadata": {
    "id": "a877fd6d-7a0c-46d2-9657-f25036e4ca4b"
   },
   "source": [
    "In this challenge, we will continue to work with customer data from an insurance company, but we will use a dataset with more columns, called marketing_customer_analysis.csv, which can be found at the following link:\n",
    "\n",
    "https://raw.githubusercontent.com/data-bootcamp-v4/data/main/marketing_customer_analysis_clean.csv\n",
    "\n",
    "This dataset contains information such as customer demographics, policy details, vehicle information, and the customer's response to the last marketing campaign. Our goal is to explore and analyze this data by performing data cleaning, formatting, and structuring."
   ]
  },
  {
   "cell_type": "code",
   "execution_count": 103,
   "id": "aa10d9b0-1c27-4d3f-a8e4-db6ab73bfd26",
   "metadata": {
    "id": "aa10d9b0-1c27-4d3f-a8e4-db6ab73bfd26"
   },
   "outputs": [],
   "source": [
    "# Your code goes here\n",
    "\n",
    "marketing_customer_clean_path = \"https://raw.githubusercontent.com/data-bootcamp-v4/data/main/marketing_customer_analysis_clean.csv\"\n",
    "df_customer_clean = pd.read_csv(marketing_customer_clean_path)"
   ]
  },
  {
   "cell_type": "code",
   "execution_count": 102,
   "id": "2bc957ae",
   "metadata": {},
   "outputs": [
    {
     "name": "stdout",
     "output_type": "stream",
     "text": [
      "<class 'pandas.core.frame.DataFrame'>\n",
      "RangeIndex: 10910 entries, 0 to 10909\n",
      "Data columns (total 27 columns):\n",
      " #   Column                         Non-Null Count  Dtype  \n",
      "---  ------                         --------------  -----  \n",
      " 0   unnamed:_0                     10910 non-null  int64  \n",
      " 1   customer                       10910 non-null  object \n",
      " 2   state                          10910 non-null  object \n",
      " 3   customer_lifetime_value        10910 non-null  float64\n",
      " 4   response                       10910 non-null  object \n",
      " 5   coverage                       10910 non-null  object \n",
      " 6   education                      10910 non-null  object \n",
      " 7   effective_to_date              10910 non-null  object \n",
      " 8   employmentstatus               10910 non-null  object \n",
      " 9   gender                         10910 non-null  object \n",
      " 10  income                         10910 non-null  int64  \n",
      " 11  location_code                  10910 non-null  object \n",
      " 12  marital_status                 10910 non-null  object \n",
      " 13  monthly_premium_auto           10910 non-null  int64  \n",
      " 14  months_since_last_claim        10910 non-null  float64\n",
      " 15  months_since_policy_inception  10910 non-null  int64  \n",
      " 16  number_of_open_complaints      10910 non-null  float64\n",
      " 17  number_of_policies             10910 non-null  int64  \n",
      " 18  policy_type                    10910 non-null  object \n",
      " 19  policy                         10910 non-null  object \n",
      " 20  renew_offer_type               10910 non-null  object \n",
      " 21  sales_channel                  10910 non-null  object \n",
      " 22  total_claim_amount             10910 non-null  float64\n",
      " 23  vehicle_class                  10910 non-null  object \n",
      " 24  vehicle_size                   10910 non-null  object \n",
      " 25  vehicle_type                   10910 non-null  object \n",
      " 26  month                          10910 non-null  int64  \n",
      "dtypes: float64(4), int64(6), object(17)\n",
      "memory usage: 2.2+ MB\n"
     ]
    }
   ],
   "source": [
    "df_customer_clean.info()"
   ]
  },
  {
   "cell_type": "code",
   "execution_count": 101,
   "id": "d14e2638",
   "metadata": {},
   "outputs": [
    {
     "data": {
      "text/html": [
       "<div>\n",
       "<style scoped>\n",
       "    .dataframe tbody tr th:only-of-type {\n",
       "        vertical-align: middle;\n",
       "    }\n",
       "\n",
       "    .dataframe tbody tr th {\n",
       "        vertical-align: top;\n",
       "    }\n",
       "\n",
       "    .dataframe thead th {\n",
       "        text-align: right;\n",
       "    }\n",
       "</style>\n",
       "<table border=\"1\" class=\"dataframe\">\n",
       "  <thead>\n",
       "    <tr style=\"text-align: right;\">\n",
       "      <th></th>\n",
       "      <th>unnamed:_0</th>\n",
       "      <th>customer</th>\n",
       "      <th>state</th>\n",
       "      <th>customer_lifetime_value</th>\n",
       "      <th>response</th>\n",
       "      <th>coverage</th>\n",
       "      <th>education</th>\n",
       "      <th>effective_to_date</th>\n",
       "      <th>employmentstatus</th>\n",
       "      <th>gender</th>\n",
       "      <th>...</th>\n",
       "      <th>number_of_policies</th>\n",
       "      <th>policy_type</th>\n",
       "      <th>policy</th>\n",
       "      <th>renew_offer_type</th>\n",
       "      <th>sales_channel</th>\n",
       "      <th>total_claim_amount</th>\n",
       "      <th>vehicle_class</th>\n",
       "      <th>vehicle_size</th>\n",
       "      <th>vehicle_type</th>\n",
       "      <th>month</th>\n",
       "    </tr>\n",
       "  </thead>\n",
       "  <tbody>\n",
       "    <tr>\n",
       "      <th>0</th>\n",
       "      <td>0</td>\n",
       "      <td>DK49336</td>\n",
       "      <td>Arizona</td>\n",
       "      <td>4809.216960</td>\n",
       "      <td>No</td>\n",
       "      <td>Basic</td>\n",
       "      <td>College</td>\n",
       "      <td>2011-02-18</td>\n",
       "      <td>Employed</td>\n",
       "      <td>M</td>\n",
       "      <td>...</td>\n",
       "      <td>9</td>\n",
       "      <td>Corporate Auto</td>\n",
       "      <td>Corporate L3</td>\n",
       "      <td>Offer3</td>\n",
       "      <td>Agent</td>\n",
       "      <td>292.800000</td>\n",
       "      <td>Four-Door Car</td>\n",
       "      <td>Medsize</td>\n",
       "      <td>A</td>\n",
       "      <td>2</td>\n",
       "    </tr>\n",
       "    <tr>\n",
       "      <th>1</th>\n",
       "      <td>1</td>\n",
       "      <td>KX64629</td>\n",
       "      <td>California</td>\n",
       "      <td>2228.525238</td>\n",
       "      <td>No</td>\n",
       "      <td>Basic</td>\n",
       "      <td>College</td>\n",
       "      <td>2011-01-18</td>\n",
       "      <td>Unemployed</td>\n",
       "      <td>F</td>\n",
       "      <td>...</td>\n",
       "      <td>1</td>\n",
       "      <td>Personal Auto</td>\n",
       "      <td>Personal L3</td>\n",
       "      <td>Offer4</td>\n",
       "      <td>Call Center</td>\n",
       "      <td>744.924331</td>\n",
       "      <td>Four-Door Car</td>\n",
       "      <td>Medsize</td>\n",
       "      <td>A</td>\n",
       "      <td>1</td>\n",
       "    </tr>\n",
       "    <tr>\n",
       "      <th>2</th>\n",
       "      <td>2</td>\n",
       "      <td>LZ68649</td>\n",
       "      <td>Washington</td>\n",
       "      <td>14947.917300</td>\n",
       "      <td>No</td>\n",
       "      <td>Basic</td>\n",
       "      <td>Bachelor</td>\n",
       "      <td>2011-02-10</td>\n",
       "      <td>Employed</td>\n",
       "      <td>M</td>\n",
       "      <td>...</td>\n",
       "      <td>2</td>\n",
       "      <td>Personal Auto</td>\n",
       "      <td>Personal L3</td>\n",
       "      <td>Offer3</td>\n",
       "      <td>Call Center</td>\n",
       "      <td>480.000000</td>\n",
       "      <td>SUV</td>\n",
       "      <td>Medsize</td>\n",
       "      <td>A</td>\n",
       "      <td>2</td>\n",
       "    </tr>\n",
       "    <tr>\n",
       "      <th>3</th>\n",
       "      <td>3</td>\n",
       "      <td>XL78013</td>\n",
       "      <td>Oregon</td>\n",
       "      <td>22332.439460</td>\n",
       "      <td>Yes</td>\n",
       "      <td>Extended</td>\n",
       "      <td>College</td>\n",
       "      <td>2011-01-11</td>\n",
       "      <td>Employed</td>\n",
       "      <td>M</td>\n",
       "      <td>...</td>\n",
       "      <td>2</td>\n",
       "      <td>Corporate Auto</td>\n",
       "      <td>Corporate L3</td>\n",
       "      <td>Offer2</td>\n",
       "      <td>Branch</td>\n",
       "      <td>484.013411</td>\n",
       "      <td>Four-Door Car</td>\n",
       "      <td>Medsize</td>\n",
       "      <td>A</td>\n",
       "      <td>1</td>\n",
       "    </tr>\n",
       "    <tr>\n",
       "      <th>4</th>\n",
       "      <td>4</td>\n",
       "      <td>QA50777</td>\n",
       "      <td>Oregon</td>\n",
       "      <td>9025.067525</td>\n",
       "      <td>No</td>\n",
       "      <td>Premium</td>\n",
       "      <td>Bachelor</td>\n",
       "      <td>2011-01-17</td>\n",
       "      <td>Medical Leave</td>\n",
       "      <td>F</td>\n",
       "      <td>...</td>\n",
       "      <td>7</td>\n",
       "      <td>Personal Auto</td>\n",
       "      <td>Personal L2</td>\n",
       "      <td>Offer1</td>\n",
       "      <td>Branch</td>\n",
       "      <td>707.925645</td>\n",
       "      <td>Four-Door Car</td>\n",
       "      <td>Medsize</td>\n",
       "      <td>A</td>\n",
       "      <td>1</td>\n",
       "    </tr>\n",
       "  </tbody>\n",
       "</table>\n",
       "<p>5 rows × 27 columns</p>\n",
       "</div>"
      ],
      "text/plain": [
       "   unnamed:_0 customer       state  customer_lifetime_value response  \\\n",
       "0           0  DK49336     Arizona              4809.216960       No   \n",
       "1           1  KX64629  California              2228.525238       No   \n",
       "2           2  LZ68649  Washington             14947.917300       No   \n",
       "3           3  XL78013      Oregon             22332.439460      Yes   \n",
       "4           4  QA50777      Oregon              9025.067525       No   \n",
       "\n",
       "   coverage education effective_to_date employmentstatus gender  ...  \\\n",
       "0     Basic   College        2011-02-18         Employed      M  ...   \n",
       "1     Basic   College        2011-01-18       Unemployed      F  ...   \n",
       "2     Basic  Bachelor        2011-02-10         Employed      M  ...   \n",
       "3  Extended   College        2011-01-11         Employed      M  ...   \n",
       "4   Premium  Bachelor        2011-01-17    Medical Leave      F  ...   \n",
       "\n",
       "   number_of_policies     policy_type        policy  renew_offer_type  \\\n",
       "0                   9  Corporate Auto  Corporate L3            Offer3   \n",
       "1                   1   Personal Auto   Personal L3            Offer4   \n",
       "2                   2   Personal Auto   Personal L3            Offer3   \n",
       "3                   2  Corporate Auto  Corporate L3            Offer2   \n",
       "4                   7   Personal Auto   Personal L2            Offer1   \n",
       "\n",
       "   sales_channel  total_claim_amount  vehicle_class  vehicle_size  \\\n",
       "0          Agent          292.800000  Four-Door Car       Medsize   \n",
       "1    Call Center          744.924331  Four-Door Car       Medsize   \n",
       "2    Call Center          480.000000            SUV       Medsize   \n",
       "3         Branch          484.013411  Four-Door Car       Medsize   \n",
       "4         Branch          707.925645  Four-Door Car       Medsize   \n",
       "\n",
       "  vehicle_type month  \n",
       "0            A     2  \n",
       "1            A     1  \n",
       "2            A     2  \n",
       "3            A     1  \n",
       "4            A     1  \n",
       "\n",
       "[5 rows x 27 columns]"
      ]
     },
     "execution_count": 101,
     "metadata": {},
     "output_type": "execute_result"
    }
   ],
   "source": [
    "df_customer_clean.head()"
   ]
  },
  {
   "cell_type": "markdown",
   "id": "df35fd0d-513e-4e77-867e-429da10a9cc7",
   "metadata": {
    "id": "df35fd0d-513e-4e77-867e-429da10a9cc7"
   },
   "source": [
    "1. You work at the marketing department and you want to know which sales channel brought the most sales in terms of total revenue. Using pivot, create a summary table showing the total revenue for each sales channel (branch, call center, web, and mail).\n",
    "Round the total revenue to 2 decimal points.  Analyze the resulting table to draw insights."
   ]
  },
  {
   "cell_type": "code",
   "execution_count": 108,
   "id": "5075d142",
   "metadata": {},
   "outputs": [
    {
     "name": "stdout",
     "output_type": "stream",
     "text": [
      "            customer_lifetime_value\n",
      "state                              \n",
      "Arizona                     7919.35\n",
      "California                  7953.77\n",
      "Nevada                      8267.43\n",
      "Oregon                      8146.22\n",
      "Washington                  7839.78\n"
     ]
    }
   ],
   "source": [
    "table_pivot = df_customer_clean.pivot_table(values='customer_lifetime_value', index='state', aggfunc='mean')\n",
    "table_pivot = table_pivot.round(2)\n",
    "print (table_pivot)"
   ]
  },
  {
   "cell_type": "markdown",
   "id": "640993b2-a291-436c-a34d-a551144f8196",
   "metadata": {
    "id": "640993b2-a291-436c-a34d-a551144f8196"
   },
   "source": [
    "2. Create a pivot table that shows the average customer lifetime value per gender and education level. Analyze the resulting table to draw insights."
   ]
  },
  {
   "cell_type": "code",
   "execution_count": 110,
   "id": "50608c53",
   "metadata": {},
   "outputs": [
    {
     "name": "stdout",
     "output_type": "stream",
     "text": [
      "education  Bachelor  College   Doctor  High School or Below   Master\n",
      "gender                                                              \n",
      "F           7874.27  7748.82  7328.51               8675.22  8157.05\n",
      "M           7703.60  8052.46  7415.33               8149.69  8168.83\n"
     ]
    }
   ],
   "source": [
    "table_pivot_average = df_customer_clean.pivot_table(index='gender', columns='education', values='customer_lifetime_value', aggfunc='mean')\n",
    "table_pivot_average = table_pivot_average.round(2)\n",
    "print (table_pivot_average)"
   ]
  },
  {
   "cell_type": "code",
   "execution_count": 114,
   "id": "8cf96364",
   "metadata": {},
   "outputs": [
    {
     "data": {
      "text/plain": [
       "Index(['unnamed:_0', 'customer', 'state', 'customer_lifetime_value',\n",
       "       'response', 'coverage', 'education', 'effective_to_date',\n",
       "       'employmentstatus', 'gender', 'income', 'location_code',\n",
       "       'marital_status', 'monthly_premium_auto', 'months_since_last_claim',\n",
       "       'months_since_policy_inception', 'number_of_open_complaints',\n",
       "       'number_of_policies', 'policy_type', 'policy', 'renew_offer_type',\n",
       "       'sales_channel', 'total_claim_amount', 'vehicle_class', 'vehicle_size',\n",
       "       'vehicle_type', 'month'],\n",
       "      dtype='object')"
      ]
     },
     "execution_count": 114,
     "metadata": {},
     "output_type": "execute_result"
    }
   ],
   "source": [
    "df_customer_clean.columns"
   ]
  },
  {
   "cell_type": "markdown",
   "id": "32c7f2e5-3d90-43e5-be33-9781b6069198",
   "metadata": {
    "id": "32c7f2e5-3d90-43e5-be33-9781b6069198"
   },
   "source": [
    "## Bonus\n",
    "\n",
    "You work at the customer service department and you want to know which months had the highest number of complaints by policy type category. Create a summary table showing the number of complaints by policy type and month.\n",
    "Show it in a long format table."
   ]
  },
  {
   "cell_type": "markdown",
   "id": "e3d09a8f-953c-448a-a5f8-2e5a8cca7291",
   "metadata": {
    "id": "e3d09a8f-953c-448a-a5f8-2e5a8cca7291"
   },
   "source": [
    "*In data analysis, a long format table is a way of structuring data in which each observation or measurement is stored in a separate row of the table. The key characteristic of a long format table is that each column represents a single variable, and each row represents a single observation of that variable.*\n",
    "\n",
    "*More information about long and wide format tables here: https://www.statology.org/long-vs-wide-data/*"
   ]
  },
  {
   "cell_type": "code",
   "execution_count": 115,
   "id": "3a069e0b-b400-470e-904d-d17582191be4",
   "metadata": {
    "id": "3a069e0b-b400-470e-904d-d17582191be4"
   },
   "outputs": [
    {
     "name": "stdout",
     "output_type": "stream",
     "text": [
      "      policy_type  month  number_of_open_complaints\n",
      "0  Corporate Auto      1                 443.434952\n",
      "1  Corporate Auto      2                 385.208135\n",
      "2   Personal Auto      1                1727.605722\n",
      "3   Personal Auto      2                1453.684441\n",
      "4    Special Auto      1                  87.074049\n",
      "5    Special Auto      2                  95.226817\n"
     ]
    }
   ],
   "source": [
    "# Your code goes here\n",
    "\n",
    "complaints_summary = df_customer_clean.groupby(['policy_type', 'month'])['number_of_open_complaints'].sum().reset_index()\n",
    "\n",
    "print(complaints_summary)"
   ]
  }
 ],
 "metadata": {
  "colab": {
   "provenance": []
  },
  "kernelspec": {
   "display_name": "base",
   "language": "python",
   "name": "python3"
  },
  "language_info": {
   "codemirror_mode": {
    "name": "ipython",
    "version": 3
   },
   "file_extension": ".py",
   "mimetype": "text/x-python",
   "name": "python",
   "nbconvert_exporter": "python",
   "pygments_lexer": "ipython3",
   "version": "3.12.4"
  }
 },
 "nbformat": 4,
 "nbformat_minor": 5
}
